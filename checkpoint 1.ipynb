{
 "cells": [
  {
   "cell_type": "code",
   "execution_count": 3,
   "metadata": {},
   "outputs": [
    {
     "name": "stdout",
     "output_type": "stream",
     "text": [
      "615\n"
     ]
    }
   ],
   "source": [
    "#exercice2 n=int(input(\"donner un entier n\"))\n",
    "nn=int(\"%s%s\"%(n,n))\n",
    "nnn=int(\"%s%s%s\"%(n,n,n))\n",
    "s=n+nn+nnn\n",
    "print(s)\n",
    "    \n"
   ]
  },
  {
   "cell_type": "code",
   "execution_count": 11,
   "metadata": {},
   "outputs": [
    {
     "name": "stdout",
     "output_type": "stream",
     "text": [
      "donner un entier n2\n",
      "votre nombre est paire\n"
     ]
    }
   ],
   "source": [
    "n=int(input(\"donner un entier n\"))\n",
    "if n%2==0:\n",
    "    print(\"votre nombre est paire\")\n",
    "else:\n",
    "    print(\"votre nombre est impaire\")"
   ]
  },
  {
   "cell_type": "markdown",
   "metadata": {},
   "source": [
    "#### print(*(i for i in range(2000, 3201) if i%7 == 0 and i%5 != 0), sep=\",\")"
   ]
  },
  {
   "cell_type": "code",
   "execution_count": 26,
   "metadata": {},
   "outputs": [
    {
     "name": "stdout",
     "output_type": "stream",
     "text": [
      "donner x un entier5\n",
      "120\n"
     ]
    }
   ],
   "source": [
    " x=int(input(\"donner x un entier\"))\n",
    "def fact(x):\n",
    "    if x==0:\n",
    "        return 1\n",
    "    else :\n",
    "        return x* fact(x-1)\n",
    "print(fact(x))\n"
   ]
  },
  {
   "cell_type": "code",
   "execution_count": 35,
   "metadata": {},
   "outputs": [
    {
     "name": "stdout",
     "output_type": "stream",
     "text": [
      "donner une chaine de caracterehello team\n",
      "hlota\n"
     ]
    }
   ],
   "source": [
    "ch1=str(input(\"donner une chaine de caractere\"))\n",
    "ch2=''\n",
    "for i range (len(ch1)):\n",
    "    if i %2 ==0:\n",
    "        ch2+=ch1[i]\n",
    "print(ch2)\n"
   ]
  },
  {
   "cell_type": "code",
   "execution_count": 44,
   "metadata": {},
   "outputs": [
    {
     "name": "stdout",
     "output_type": "stream",
     "text": [
      "donner un entier x600\n",
      "300\n"
     ]
    }
   ],
   "source": [
    "x=int(input(\"donner un entier x\"))\n",
    "if x>=500 :\n",
    "    print((x*50)//100)\n",
    "elif x<500 and x>=200 :\n",
    "    print((x*30)//100)\n",
    "else :\n",
    "    print((x*10)//100)"
   ]
  },
  {
   "cell_type": "code",
   "execution_count": null,
   "metadata": {},
   "outputs": [],
   "source": []
  }
 ],
 "metadata": {
  "kernelspec": {
   "display_name": "Python 3",
   "language": "python",
   "name": "python3"
  },
  "language_info": {
   "codemirror_mode": {
    "name": "ipython",
    "version": 3
   },
   "file_extension": ".py",
   "mimetype": "text/x-python",
   "name": "python",
   "nbconvert_exporter": "python",
   "pygments_lexer": "ipython3",
   "version": "3.8.5"
  }
 },
 "nbformat": 4,
 "nbformat_minor": 4
}
